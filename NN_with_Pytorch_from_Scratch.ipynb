{
  "nbformat": 4,
  "nbformat_minor": 0,
  "metadata": {
    "colab": {
      "provenance": []
    },
    "kernelspec": {
      "name": "python3",
      "display_name": "Python 3"
    },
    "language_info": {
      "name": "python"
    }
  },
  "cells": [
    {
      "cell_type": "markdown",
      "source": [
        "# **1. Library Loading**"
      ],
      "metadata": {
        "id": "qY2E6Qf2sgYA"
      }
    },
    {
      "cell_type": "code",
      "execution_count": 1,
      "metadata": {
        "id": "tDwKKzYAoYa6"
      },
      "outputs": [],
      "source": [
        "import torch\n",
        "import torch.nn.functional as F\n",
        "import matplotlib.pyplot as plt\n",
        "%matplotlib inline"
      ]
    },
    {
      "cell_type": "markdown",
      "source": [
        "# **2. Preparing the Dataset**"
      ],
      "metadata": {
        "id": "8ywWfRlzokIo"
      }
    },
    {
      "cell_type": "code",
      "source": [
        "from sklearn.datasets import load_digits\n",
        "\n",
        "# import dataset\n",
        "X, y = load_digits(return_X_y=True)\n",
        "\n",
        "# Validate\n",
        "print('X shape:', X.shape)\n",
        "print('y shape:', y.shape)"
      ],
      "metadata": {
        "colab": {
          "base_uri": "https://localhost:8080/"
        },
        "id": "9t9hTFmJof2_",
        "outputId": "67edb8b5-0245-4901-9f04-b7f0954a4722"
      },
      "execution_count": 2,
      "outputs": [
        {
          "output_type": "stream",
          "name": "stdout",
          "text": [
            "X shape: (1797, 64)\n",
            "y shape: (1797,)\n"
          ]
        }
      ]
    },
    {
      "cell_type": "markdown",
      "source": [
        "- Splitting the data into train, valid, and test set."
      ],
      "metadata": {
        "id": "XcMwyvjEovSV"
      }
    },
    {
      "cell_type": "code",
      "source": [
        "from sklearn.model_selection import train_test_split\n",
        "\n",
        "# Split train & (valid and test) --> 80:20\n",
        "X_train, X_test, y_train, y_test = train_test_split(\n",
        "    X,\n",
        "    y,\n",
        "    stratify=y,\n",
        "    test_size=0.2,\n",
        "    random_state=42\n",
        ")\n",
        "\n",
        "# Split valid & test --> 50:50\n",
        "X_valid, X_test, y_valid, y_test = train_test_split(\n",
        "    X_test,\n",
        "    y_test,\n",
        "    stratify=y_test,\n",
        "    test_size=0.5,\n",
        "    random_state=42\n",
        ")\n",
        "\n",
        "# Validate\n",
        "print('X train shape:', X_train.shape)\n",
        "print('y train shape:', y_train.shape)\n",
        "print('X valid shape:', X_valid.shape)\n",
        "print('y valid shape:', y_valid.shape)\n",
        "print('X test shape :', X_test.shape)\n",
        "print('y test shape :', y_test.shape)"
      ],
      "metadata": {
        "colab": {
          "base_uri": "https://localhost:8080/"
        },
        "id": "c5FmHVRhorve",
        "outputId": "3368a129-c196-4fda-9470-6bfabb2e5349"
      },
      "execution_count": 3,
      "outputs": [
        {
          "output_type": "stream",
          "name": "stdout",
          "text": [
            "X train shape: (1437, 64)\n",
            "y train shape: (1437,)\n",
            "X valid shape: (180, 64)\n",
            "y valid shape: (180,)\n",
            "X test shape : (180, 64)\n",
            "y test shape : (180,)\n"
          ]
        }
      ]
    },
    {
      "cell_type": "code",
      "source": [
        "# Convert to torch tensor\n",
        "X_train, y_train = torch.tensor(X_train), torch.tensor(y_train)\n",
        "X_valid, y_valid = torch.tensor(X_valid), torch.tensor(y_valid)\n",
        "X_test, y_test = torch.tensor(X_test), torch.tensor(y_test)"
      ],
      "metadata": {
        "id": "hrq24CXgo6lp"
      },
      "execution_count": 4,
      "outputs": []
    },
    {
      "cell_type": "markdown",
      "source": [
        "# **3. Create a Comparison Function**\n",
        "\n",
        "- Creating a utility function to compare manual gradients to PyTorch gradients.\n",
        "- The function is to check whether the results we calculate from scratch are the same with calculation from PyTorch library."
      ],
      "metadata": {
        "id": "w8EnkSd5o9gn"
      }
    },
    {
      "cell_type": "code",
      "source": [
        "# Defining function for comparing gradients\n",
        "def compare_grad(element, manual_grad, torch_node):\n",
        "    \"\"\"comparing manual gradients to PyTorch gradients\"\"\"\n",
        "    # Extract gradients\n",
        "    torch_grad = torch_node.grad\n",
        "\n",
        "    # Exact comparison\n",
        "    exact = torch.all(manual_grad == torch_grad).item()\n",
        "\n",
        "    # Approximate comparison\n",
        "    apprx = torch.allclose(manual_grad, torch_grad)\n",
        "\n",
        "    # Calculate maximum different between manual and torch gradients\n",
        "    max_diff = (\n",
        "        (manual_grad-torch_grad)    # calculate the difference\n",
        "        .abs()                      # then take the absolute value\n",
        "        .max()                      # and find the maximum value of it\n",
        "        .item()\n",
        "    )\n",
        "\n",
        "    # Print\n",
        "    print(f'{element:15s} | exact: {str(exact):5s} | approximate: {str(apprx):5s} | max diff.: {max_diff}')"
      ],
      "metadata": {
        "id": "qxKlsvBdo4Ix"
      },
      "execution_count": 5,
      "outputs": []
    },
    {
      "cell_type": "markdown",
      "source": [
        "# **4. Creating the Neural Network using PyTorch**"
      ],
      "metadata": {
        "id": "eNdwwlqNpTxa"
      }
    },
    {
      "cell_type": "markdown",
      "source": [
        "- Creating a neural network to classify the digits.\n",
        "- The architectures are\n",
        "  - Having 64 input dimensions\n",
        "  - Having 2 layers (1 hidden layer and 1 output layer)\n",
        "  - The output layer has 10 neurons (1 neuron for each digits)"
      ],
      "metadata": {
        "id": "Ff0EvguppW-3"
      }
    },
    {
      "cell_type": "code",
      "source": [
        "# Defining the size\n",
        "n_in = 64\n",
        "n_hidden = 24\n",
        "n_out = 10"
      ],
      "metadata": {
        "id": "VSJ7eXo3pKUU"
      },
      "execution_count": 6,
      "outputs": []
    },
    {
      "cell_type": "code",
      "source": [
        "# Create the Neural Network\n",
        "g = torch.Generator().manual_seed(42)\n",
        "\n",
        "# Layer 1 (The hidden layer)\n",
        "W1 = torch.randn((n_in, n_hidden),  generator=g, dtype=torch.float64) * (5/3) / (n_in**0.5)\n",
        "b1 = torch.randn(n_hidden,          generator=g, dtype=torch.float64) * 0.1\n",
        "\n",
        "# Layer 2 (The output layer)\n",
        "W2 = torch.randn((n_hidden, n_out), generator=g, dtype=torch.float64) * 0.1\n",
        "b2 = torch.randn(n_out,             generator=g, dtype=torch.float64) * 0.1\n",
        "\n",
        "# Get the parameters\n",
        "parameters = [W1, b1, W2, b2]\n",
        "print(sum(param.nelement() for param in parameters))\n",
        "\n",
        "# Activate the grad\n",
        "for param in parameters:\n",
        "    param.requires_grad = True"
      ],
      "metadata": {
        "colab": {
          "base_uri": "https://localhost:8080/"
        },
        "id": "pvYhPIwWpdqU",
        "outputId": "7c48b84d-ebde-429b-f01c-f4bb15ee067c"
      },
      "execution_count": 7,
      "outputs": [
        {
          "output_type": "stream",
          "name": "stdout",
          "text": [
            "1810\n"
          ]
        }
      ]
    },
    {
      "cell_type": "markdown",
      "source": [
        "- Creating a single forward pass that we want to calculate its gradients manually."
      ],
      "metadata": {
        "id": "X_d0rZ3zpyMD"
      }
    },
    {
      "cell_type": "markdown",
      "source": [
        "<center>\n",
        "<img src=\"https://drive.google.com/uc?id=1_LiahYJt_Ij-zjCE1RcHCEe2jiDxUXI-\">"
      ],
      "metadata": {
        "id": "eLNFPfD9qSzC"
      }
    },
    {
      "cell_type": "code",
      "source": [
        "# Create a batch learning\n",
        "batch_size = 32\n",
        "n = batch_size\n",
        "\n",
        "# Construct a minibatch\n",
        "mini_ix = torch.randint(0, X_train.shape[0], (batch_size,), generator=g)\n",
        "X_batch, y_batch = X_train[mini_ix], y_train[mini_ix]\n",
        "\n",
        "# Validating data\n",
        "print('X_batch shape:', X_batch.shape)\n",
        "print('y_batch shape:', y_batch.shape)"
      ],
      "metadata": {
        "colab": {
          "base_uri": "https://localhost:8080/"
        },
        "id": "U1i6xWzup5Bv",
        "outputId": "6ae6c26b-3050-4834-bb55-84558ba102bd"
      },
      "execution_count": 8,
      "outputs": [
        {
          "output_type": "stream",
          "name": "stdout",
          "text": [
            "X_batch shape: torch.Size([32, 64])\n",
            "y_batch shape: torch.Size([32])\n"
          ]
        }
      ]
    },
    {
      "cell_type": "code",
      "source": [
        "# Performing a forward pass\n",
        "\n",
        "# The first hidden layer calculation\n",
        "h_pre_act = X_batch @ W1 + b1\n",
        "\n",
        "# Performing a non-linearity calculation (activation function)\n",
        "h = torch.tanh(h_pre_act)\n",
        "\n",
        "# The second and output layer\n",
        "logits = h @ W2 + b2\n",
        "\n",
        "# Calculating loss\n",
        "counts = logits.exp()\n",
        "counts_sum = counts.sum(1, keepdims=True)\n",
        "counts_sum_inv = counts_sum**-1\n",
        "probs = counts * counts_sum_inv\n",
        "log_probs = probs.log()\n",
        "loss = -log_probs[range(n), y_batch].mean()\n",
        "\n",
        "# Performing the backward pass with PyTorch\n",
        "for p in parameters:\n",
        "    p.grad = None\n",
        "\n",
        "for p in [log_probs, probs, counts_sum_inv, counts_sum, counts,\n",
        "          logits, h, h_pre_act]:\n",
        "    p.retain_grad()\n",
        "\n",
        "loss.backward()\n",
        "loss"
      ],
      "metadata": {
        "colab": {
          "base_uri": "https://localhost:8080/"
        },
        "id": "W5Yu7iyNp5af",
        "outputId": "1ce15d53-7f6d-4a0d-d70b-a1657c117dcc"
      },
      "execution_count": 9,
      "outputs": [
        {
          "output_type": "execute_result",
          "data": {
            "text/plain": [
              "tensor(2.3850, dtype=torch.float64, grad_fn=<NegBackward0>)"
            ]
          },
          "metadata": {},
          "execution_count": 9
        }
      ]
    },
    {
      "cell_type": "markdown",
      "source": [
        "# **5. Performing Backpropagation for `counts`, `counts_sum`, and `counts_sum_inv`**"
      ],
      "metadata": {
        "id": "nGKs8XdduvM9"
      }
    },
    {
      "cell_type": "markdown",
      "source": [
        "- We need to find :\n",
        "\n",
        "$$\n",
        "\\cfrac\n",
        "{\\partial \\ \\text{loss}}\n",
        "{\\partial \\ \\text{counts}}\n",
        "$$\n",
        "\n",
        "$$\n",
        "\\cfrac\n",
        "{\\partial \\ \\text{loss}}\n",
        "{\\partial \\ \\text{counts_sum}}\n",
        "$$\n",
        "\n",
        "$$\n",
        "\\cfrac\n",
        "{\\partial \\ \\text{loss}}\n",
        "{\\partial \\ \\text{counts_sum_inv}}\n",
        "$$"
      ],
      "metadata": {
        "id": "9I_PBTMCvEWx"
      }
    },
    {
      "cell_type": "markdown",
      "source": [
        "- In graph :\n",
        "\n",
        "<center>\n",
        "<img src=\"https://drive.google.com/uc?id=1ehlVs8Ol9-VILS-ogqaOaS8NLxNIvXcT\">"
      ],
      "metadata": {
        "id": "hz7kMIHsvJpH"
      }
    },
    {
      "cell_type": "markdown",
      "source": [
        "## 5.1 Calculating the `counst_sum_inv`"
      ],
      "metadata": {
        "id": "4keNEgObvNA_"
      }
    },
    {
      "cell_type": "markdown",
      "source": [
        "- From the graph, `counts` derivative is come from `probs` and `counts_sum`\n",
        "- We can find the `counts` derivative step by step, start from the `counts_sum_inv`\n",
        "\n",
        "\n",
        "- We can use the equation :\n",
        "```\n",
        "probs = counts * counts_sum_inv\n",
        "dprobs = counts dcounts_sum_inv\n",
        "```\n",
        "\n",
        "- Thus :\n",
        "```\n",
        "dloss/dcounts_sum_inv = counts * dprobs\n",
        "```"
      ],
      "metadata": {
        "id": "TlD-Tdw4vRBM"
      }
    },
    {
      "cell_type": "code",
      "source": [
        "dlog_probs = torch.zeros_like(log_probs)\n",
        "dlog_probs[range(n), y_batch] = -1.0 / n\n",
        "dprobs = (1./probs) * dlog_probs\n",
        "dcounts_sum_inv = (counts * dprobs).sum(1, keepdim=True)\n",
        "\n",
        "# Check the comparison between manual & automatic gradients\n",
        "compare_grad('log_probs', dlog_probs, log_probs)\n",
        "compare_grad('probs', dprobs, probs)\n",
        "compare_grad('counts_sum_inv', dcounts_sum_inv, counts_sum_inv)"
      ],
      "metadata": {
        "colab": {
          "base_uri": "https://localhost:8080/"
        },
        "id": "MyfTYw6LvUj7",
        "outputId": "b04a58a2-01f3-4a63-df5c-b629c397a87e"
      },
      "execution_count": 10,
      "outputs": [
        {
          "output_type": "stream",
          "name": "stdout",
          "text": [
            "log_probs       | exact: True  | approximate: True  | max diff.: 0.0\n",
            "probs           | exact: True  | approximate: True  | max diff.: 0.0\n",
            "counts_sum_inv  | exact: True  | approximate: True  | max diff.: 0.0\n"
          ]
        }
      ]
    },
    {
      "cell_type": "markdown",
      "source": [
        "## 5.2. Calculate the `counst_sum`"
      ],
      "metadata": {
        "id": "dBo_aVTivhEA"
      }
    },
    {
      "cell_type": "markdown",
      "source": [
        "- Then we can find the derivative of `loss` to the `counts_sum`\n",
        "\n",
        "- We can use the equation :\n",
        "```\n",
        "counts_sum_inv = counts_sum**-1\n",
        "dcounts_sum_inv = -1 * (counts_sum)**(-2)\n",
        "```\n",
        "\n",
        "- Thus :\n",
        "```\n",
        "dloss/dcounts_sum = counts * dcounts_sum_inv\n",
        "```"
      ],
      "metadata": {
        "id": "FZKslpZDvjyO"
      }
    },
    {
      "cell_type": "code",
      "source": [
        "# Calculating dcounts_sum\n",
        "dcounts_sum = -1 * (counts_sum)**(-2) * dcounts_sum_inv\n",
        "\n",
        "# Check the comparison between manual & automatic gradients\n",
        "compare_grad('log_probs', dlog_probs, log_probs)\n",
        "compare_grad('probs', dprobs, probs)\n",
        "compare_grad('counts_sum_inv', dcounts_sum_inv, counts_sum_inv)\n",
        "compare_grad('counts_sum', dcounts_sum, counts_sum)"
      ],
      "metadata": {
        "colab": {
          "base_uri": "https://localhost:8080/"
        },
        "id": "eMaaBu5gvoEw",
        "outputId": "3e93c82d-e2a1-4065-baee-565e7cc0ca3d"
      },
      "execution_count": 11,
      "outputs": [
        {
          "output_type": "stream",
          "name": "stdout",
          "text": [
            "log_probs       | exact: True  | approximate: True  | max diff.: 0.0\n",
            "probs           | exact: True  | approximate: True  | max diff.: 0.0\n",
            "counts_sum_inv  | exact: True  | approximate: True  | max diff.: 0.0\n",
            "counts_sum      | exact: True  | approximate: True  | max diff.: 0.0\n"
          ]
        }
      ]
    },
    {
      "cell_type": "markdown",
      "source": [
        "## 5.3 Calculate the `counst`"
      ],
      "metadata": {
        "id": "h7ItDorrv4As"
      }
    },
    {
      "cell_type": "markdown",
      "source": [
        "- Finally, we can calculate the derivative of `loss` to `counts`\n",
        "- Remember, there are two sources of gradient to the `counts` node, i.e. from `probs` and `counts_sum`"
      ],
      "metadata": {
        "id": "tuN94sjLv9Bb"
      }
    },
    {
      "cell_type": "markdown",
      "source": [
        "- We can use the equation\n",
        "```\n",
        "probs = counts * counts_sum_inv\n",
        "dprobs = counts_sum_inv * dcounts\n",
        "```\n",
        "\n",
        "- Thus\n",
        "```\n",
        "dloss/dcounts = counts_sum_inv * dprobs\n",
        "```"
      ],
      "metadata": {
        "id": "IQoZ2y6sv_Cm"
      }
    },
    {
      "cell_type": "markdown",
      "source": [
        "- Next, we can use the equation\n",
        "```\n",
        "counts_sum = counts.sum(1, keepdims=True)\n",
        "dcounts_sum = 1. * dcounts\n",
        "```\n",
        "\n",
        "- Thus\n",
        "```\n",
        "dloss/dcounts = 1. * dcounts_sum\n",
        "```"
      ],
      "metadata": {
        "id": "f0rXNNI7wCf5"
      }
    },
    {
      "cell_type": "code",
      "source": [
        "dcounts = counts_sum_inv * dprobs\n",
        "dcounts += torch.ones_like(counts) * dcounts_sum\n",
        "\n",
        "# Check the comparison between manual & automatic gradients\n",
        "compare_grad('log_probs', dlog_probs, log_probs)\n",
        "compare_grad('probs', dprobs, probs)\n",
        "compare_grad('counts_sum_inv', dcounts_sum_inv, counts_sum_inv)\n",
        "compare_grad('counts_sum', dcounts_sum, counts_sum)\n",
        "compare_grad('counts', dcounts, counts)"
      ],
      "metadata": {
        "colab": {
          "base_uri": "https://localhost:8080/"
        },
        "id": "M6Rqx63BwGM5",
        "outputId": "57b29dc0-1f6a-4778-9366-d89ec7e43a30"
      },
      "execution_count": 12,
      "outputs": [
        {
          "output_type": "stream",
          "name": "stdout",
          "text": [
            "log_probs       | exact: True  | approximate: True  | max diff.: 0.0\n",
            "probs           | exact: True  | approximate: True  | max diff.: 0.0\n",
            "counts_sum_inv  | exact: True  | approximate: True  | max diff.: 0.0\n",
            "counts_sum      | exact: True  | approximate: True  | max diff.: 0.0\n",
            "counts          | exact: True  | approximate: True  | max diff.: 0.0\n"
          ]
        }
      ]
    },
    {
      "cell_type": "markdown",
      "source": [
        "# **6. Performing Backprop the `logits`**"
      ],
      "metadata": {
        "id": "_b82Ga3bwXh0"
      }
    },
    {
      "cell_type": "markdown",
      "source": [
        "- We need to find\n",
        "\n",
        "$$\n",
        "\\cfrac\n",
        "{\\partial \\ \\text{loss}}\n",
        "{\\partial \\ \\text{logits}}\n",
        "$$"
      ],
      "metadata": {
        "id": "1TZsTuwFweZX"
      }
    },
    {
      "cell_type": "markdown",
      "source": [
        "- In graph :\n",
        "\n",
        "<center>\n",
        "<img src=\"https://drive.google.com/uc?id=1v4FqTiXVBT0E5wkF1ZFksYpUm8nijPEQ\">"
      ],
      "metadata": {
        "id": "dPg7a3BDwhTA"
      }
    },
    {
      "cell_type": "markdown",
      "source": [
        "- We can use the equation\n",
        "```\n",
        "counts = exp(logits)\n",
        "dcounts = exp(logits) dlogits\n",
        "```\n",
        "\n",
        "- Thus\n",
        "```\n",
        "dloss/dlogits = exp(logits) * dcounts\n",
        "```"
      ],
      "metadata": {
        "id": "QupbX09swjW-"
      }
    },
    {
      "cell_type": "code",
      "source": [
        "dlogits = counts * dcounts\n",
        "\n",
        "# Check the comparison between manual & automatic gradients\n",
        "compare_grad('log_probs', dlog_probs, log_probs)\n",
        "compare_grad('probs', dprobs, probs)\n",
        "compare_grad('counts_sum_inv', dcounts_sum_inv, counts_sum_inv)\n",
        "compare_grad('counts_sum', dcounts_sum, counts_sum)\n",
        "compare_grad('counts', dcounts, counts)\n",
        "compare_grad('logits', dlogits, logits)"
      ],
      "metadata": {
        "colab": {
          "base_uri": "https://localhost:8080/"
        },
        "id": "t7ImbXmLwqll",
        "outputId": "af31cb60-8718-4a1b-9f5f-83f805a63383"
      },
      "execution_count": 13,
      "outputs": [
        {
          "output_type": "stream",
          "name": "stdout",
          "text": [
            "log_probs       | exact: True  | approximate: True  | max diff.: 0.0\n",
            "probs           | exact: True  | approximate: True  | max diff.: 0.0\n",
            "counts_sum_inv  | exact: True  | approximate: True  | max diff.: 0.0\n",
            "counts_sum      | exact: True  | approximate: True  | max diff.: 0.0\n",
            "counts          | exact: True  | approximate: True  | max diff.: 0.0\n",
            "logits          | exact: True  | approximate: True  | max diff.: 0.0\n"
          ]
        }
      ]
    },
    {
      "cell_type": "markdown",
      "source": [
        "# **7. Performing Backpropagation for `W2`, `b2`, and `h`**"
      ],
      "metadata": {
        "id": "UL4kGcgcqajK"
      }
    },
    {
      "cell_type": "markdown",
      "source": [
        "- Here I try to find the parameters for second layer."
      ],
      "metadata": {
        "id": "XDroIYgls5h-"
      }
    },
    {
      "cell_type": "markdown",
      "source": [
        "- We need to find :\n",
        "\n",
        "$$\n",
        "\\cfrac\n",
        "{\\partial \\ \\text{loss}}\n",
        "{\\partial \\ \\text{W2}}\n",
        "$$\n",
        "\n",
        "$$\n",
        "\\cfrac\n",
        "{\\partial \\ \\text{loss}}\n",
        "{\\partial \\ \\text{h2}}\n",
        "$$\n",
        "\n",
        "$$\n",
        "\\cfrac\n",
        "{\\partial \\ \\text{loss}}\n",
        "{\\partial \\ \\text{h}}\n",
        "$$"
      ],
      "metadata": {
        "id": "8k_AYa7ZqgtH"
      }
    },
    {
      "cell_type": "markdown",
      "source": [
        "- In graph :\n",
        "\n",
        "<center>\n",
        "<img src=\"https://drive.google.com/uc?id=1c8c2jyWPyWQC_nqGmk2ifb-hpIWyALKN\">"
      ],
      "metadata": {
        "id": "bKgiOuKDqjgC"
      }
    },
    {
      "cell_type": "markdown",
      "source": [
        "- We can use the equation\n",
        "```\n",
        "logits = h @ W2 + b2\n",
        "dlogits = W2 dh\n",
        "dlogits = 1 db2\n",
        "dlogits = h dW2\n",
        "```\n",
        "\n",
        "- Thus\n",
        "```\n",
        "dloss/dW2 = h * dlogits\n",
        "dloss/dh = W2 * dlogits\n",
        "dloss/db2 = 1 * dlogits\n",
        "```"
      ],
      "metadata": {
        "id": "DaqDoQkxqmoI"
      }
    },
    {
      "cell_type": "markdown",
      "source": [
        "- In details, let :\n",
        "\n",
        "$$\n",
        "d = h \\cdot w + c\n",
        "$$\n",
        "\n",
        "$$\n",
        "\\begin{bmatrix}\n",
        "d_{11} & d_{12} & d_{13}\\\\\n",
        "d_{21} & d_{22} & d_{23}\n",
        "\\end{bmatrix}\n",
        "=\n",
        "\\begin{bmatrix}\n",
        "h_{11} & h_{12}\\\\\n",
        "h_{21} & h_{22}\n",
        "\\end{bmatrix}\n",
        "\\cdot\n",
        "\\begin{bmatrix}\n",
        "w_{11} & w_{12} & w_{13}\\\\\n",
        "w_{21} & w_{22} & w_{23}\n",
        "\\end{bmatrix}\n",
        "+\n",
        "\\begin{bmatrix}\n",
        "c_{1} & c_{2} & c_{3}\\\\\n",
        "c_{1} & c_{2} & c_{3}\n",
        "\\end{bmatrix}\n",
        "$$\n",
        "\n",
        "$$\n",
        "\\begin{align*}\n",
        "d_{11} &= h_{11}w_{11} + h_{12}w_{21} + c_{1} \\\\\n",
        "d_{12} &= h_{11}w_{12} + h_{12}w_{22} + c_{2} \\\\\n",
        "d_{13} &= h_{11}w_{13} + h_{12}w_{23} + c_{3} \\\\\n",
        "d_{21} &= h_{21}w_{11} + h_{22}w_{21} + c_{1} \\\\\n",
        "d_{22} &= h_{21}w_{12} + h_{22}w_{22} + c_{2} \\\\\n",
        "d_{23} &= h_{21}w_{13} + h_{22}w_{23} + c_{3} \\\\\n",
        "\\end{align*}\n",
        "$$"
      ],
      "metadata": {
        "id": "55DkwXfdqpgo"
      }
    },
    {
      "cell_type": "markdown",
      "source": [
        "- So, we can find the derivative of loss with respect to model parameters."
      ],
      "metadata": {
        "id": "dRBJqjZkqvXM"
      }
    },
    {
      "cell_type": "markdown",
      "source": [
        "$$\n",
        "\\begin{align*}\n",
        "\\cfrac{\\partial L}{\\partial w_{11}} &= \\cfrac{\\partial L}{\\partial d_{11}} \\cdot h_{11} + \\cfrac{\\partial L}{\\partial d_{21}} \\cdot h_{21} \\\\\n",
        "\\cfrac{\\partial L}{\\partial w_{12}} &= \\cfrac{\\partial L}{\\partial d_{12}} \\cdot h_{11} + \\cfrac{\\partial L}{\\partial d_{22}} \\cdot h_{21} \\\\\n",
        "\\cfrac{\\partial L}{\\partial w_{13}} &= \\cfrac{\\partial L}{\\partial d_{13}} \\cdot h_{11} + \\cfrac{\\partial L}{\\partial d_{23}} \\cdot h_{21} \\\\\n",
        "\\cfrac{\\partial L}{\\partial w_{21}} &= \\cfrac{\\partial L}{\\partial d_{11}} \\cdot h_{12} + \\cfrac{\\partial L}{\\partial d_{21}} \\cdot h_{22} \\\\\n",
        "\\cfrac{\\partial L}{\\partial w_{22}} &= \\cfrac{\\partial L}{\\partial d_{12}} \\cdot h_{12} + \\cfrac{\\partial L}{\\partial d_{22}} \\cdot h_{22} \\\\\n",
        "\\cfrac{\\partial L}{\\partial w_{23}} &= \\cfrac{\\partial L}{\\partial d_{13}} \\cdot h_{12} + \\cfrac{\\partial L}{\\partial d_{23}} \\cdot h_{22}\n",
        "\\end{align*}\n",
        "$$\n",
        "\n",
        "$$\n",
        "\\begin{align*}\n",
        "\\begin{bmatrix}\n",
        "\\cfrac{\\partial L}{\\partial w_{11}} & \\cfrac{\\partial L}{\\partial w_{12}} & \\cfrac{\\partial L}{\\partial w_{13}}\\\\\n",
        "\\cfrac{\\partial L}{\\partial w_{21}} & \\cfrac{\\partial L}{\\partial w_{22}} & \\cfrac{\\partial L}{\\partial w_{23}}\n",
        "\\end{bmatrix}\n",
        "&=\n",
        "\\begin{bmatrix}\n",
        "h_{11} & h_{21}\\\\\n",
        "h_{12} & h_{22}\n",
        "\\end{bmatrix}\n",
        "\\cdot\n",
        "\\begin{bmatrix}\n",
        "\\cfrac{\\partial L}{\\partial d_{11}} & \\cfrac{\\partial L}{\\partial d_{12}} & \\cfrac{\\partial L}{\\partial d_{13}}\\\\\n",
        "\\cfrac{\\partial L}{\\partial d_{21}} & \\cfrac{\\partial L}{\\partial d_{22}} & \\cfrac{\\partial L}{\\partial d_{23}}\n",
        "\\end{bmatrix}\\\\\n",
        "\\cfrac{\\partial L}{\\partial W} &= h^{T} \\cdot \\cfrac{\\partial L}{\\partial d}\n",
        "\\end{align*}\n",
        "$$"
      ],
      "metadata": {
        "id": "wLbu5hfzqy_t"
      }
    },
    {
      "cell_type": "markdown",
      "source": [
        "- With similar way, we got :\n",
        "\n",
        "$$\n",
        "\\cfrac{\\partial L}{\\partial h} = \\cfrac{\\partial L}{\\partial d} \\cdot W^{T}\n",
        "$$\n",
        "\n",
        "- For the bias :\n",
        "\n",
        "$$\n",
        "\\begin{align*}\n",
        "\\cfrac{\\partial L}{\\partial c_{1}} &= \\cfrac{\\partial L}{\\partial d_{11}} \\cdot 1.0 + \\cfrac{\\partial L}{\\partial d_{21}} \\cdot 1.0 \\\\\n",
        "\\cfrac{\\partial L}{\\partial c_{2}} &= \\cfrac{\\partial L}{\\partial d_{12}} \\cdot 1.0 + \\cfrac{\\partial L}{\\partial d_{22}} \\cdot 1.0 \\\\\n",
        "\\cfrac{\\partial L}{\\partial c_{3}} &= \\cfrac{\\partial L}{\\partial d_{13}} \\cdot 1.0 + \\cfrac{\\partial L}{\\partial d_{23}} \\cdot 1.0 \\\\\n",
        "\\end{align*}\n",
        "$$"
      ],
      "metadata": {
        "id": "SiXNBE91q5ad"
      }
    },
    {
      "cell_type": "markdown",
      "source": [
        "$$\n",
        "\\begin{align*}\n",
        "\\begin{bmatrix}\n",
        "\\cfrac{\\partial L}{\\partial c_{1}} & \\cfrac{\\partial L}{\\partial c_{2}} & \\cfrac{\\partial L}{\\partial c_{3}}\\\\\n",
        "\\end{bmatrix}\n",
        "&=\n",
        "\\begin{bmatrix}\n",
        "1.0 & 1.0 & 1.0\n",
        "\\end{bmatrix}\n",
        "\\cdot\n",
        "\\begin{bmatrix}\n",
        "\\cfrac{\\partial L}{\\partial d_{11}} & \\cfrac{\\partial L}{\\partial d_{12}} & \\cfrac{\\partial L}{\\partial d_{13}}\\\\\n",
        "\\cfrac{\\partial L}{\\partial d_{21}} & \\cfrac{\\partial L}{\\partial d_{22}} & \\cfrac{\\partial L}{\\partial d_{23}}\n",
        "\\end{bmatrix}\\\\\n",
        "\\cfrac{\\partial L}{\\partial c} &= \\begin{bmatrix}\n",
        "1.0 & 1.0 & 1.0\n",
        "\\end{bmatrix}\n",
        "\\cdot\n",
        "\\cfrac{\\partial L}{\\partial d}\n",
        "\\end{align*}\n",
        "$$"
      ],
      "metadata": {
        "id": "fJizY7F5rA1i"
      }
    },
    {
      "cell_type": "code",
      "source": [
        "# Calculating backprop for 2nd layer\n",
        "dW2 = h.T @ dlogits\n",
        "dh = dlogits @ W2.T\n",
        "db2 = dlogits.sum(0)  # add along the columns (neurons)"
      ],
      "metadata": {
        "id": "nwyf7f7UrOb5"
      },
      "execution_count": 14,
      "outputs": []
    },
    {
      "cell_type": "code",
      "source": [
        "# Check the comparison between manual & automatic gradients\n",
        "compare_grad('log_probs', dlog_probs, log_probs)\n",
        "compare_grad('probs', dprobs, probs)\n",
        "compare_grad('counts_sum_inv', dcounts_sum_inv, counts_sum_inv)\n",
        "compare_grad('counts_sum', dcounts_sum, counts_sum)\n",
        "compare_grad('counts', dcounts, counts)\n",
        "compare_grad('logits', dlogits, logits)\n",
        "compare_grad('W2', dW2, W2)\n",
        "compare_grad('h', dh, h)\n",
        "compare_grad('b2', db2, b2)"
      ],
      "metadata": {
        "colab": {
          "base_uri": "https://localhost:8080/"
        },
        "id": "EJb6jW-lp7yc",
        "outputId": "e598b927-5626-403b-8019-df0db000a1a0"
      },
      "execution_count": 15,
      "outputs": [
        {
          "output_type": "stream",
          "name": "stdout",
          "text": [
            "log_probs       | exact: True  | approximate: True  | max diff.: 0.0\n",
            "probs           | exact: True  | approximate: True  | max diff.: 0.0\n",
            "counts_sum_inv  | exact: True  | approximate: True  | max diff.: 0.0\n",
            "counts_sum      | exact: True  | approximate: True  | max diff.: 0.0\n",
            "counts          | exact: True  | approximate: True  | max diff.: 0.0\n",
            "logits          | exact: True  | approximate: True  | max diff.: 0.0\n",
            "W2              | exact: True  | approximate: True  | max diff.: 0.0\n",
            "h               | exact: True  | approximate: True  | max diff.: 0.0\n",
            "b2              | exact: True  | approximate: True  | max diff.: 0.0\n"
          ]
        }
      ]
    },
    {
      "cell_type": "markdown",
      "source": [
        "# **8. Backpropagation the `h_pre_act`**"
      ],
      "metadata": {
        "id": "gQjp9c-IrWCh"
      }
    },
    {
      "cell_type": "markdown",
      "source": [
        "- Here we try to find the parameter of h before performed with activation function."
      ],
      "metadata": {
        "id": "ZRDlZJEQtJIf"
      }
    },
    {
      "cell_type": "markdown",
      "source": [
        "- We need to find\n",
        "\n",
        "$$\n",
        "\\cfrac\n",
        "{\\partial \\ \\text{loss}}\n",
        "{\\partial \\ \\text{h_pre_act}}\n",
        "$$"
      ],
      "metadata": {
        "id": "qU_qhpt1rceE"
      }
    },
    {
      "cell_type": "markdown",
      "source": [
        "- In graph\n",
        "\n",
        "<center>\n",
        "<img src=\"https://drive.google.com/uc?id=1zaovirepV51QS0nS9lJVntb85Lf4tZQ_\">"
      ],
      "metadata": {
        "id": "StsGDSt0rfFG"
      }
    },
    {
      "cell_type": "markdown",
      "source": [
        "- We can use the equation :\n",
        "```\n",
        "h = tanh(h_pre_act)\n",
        "dh = (1 - tanh(h_pre_act)**2) dh_pre_act\n",
        "```\n",
        "\n",
        "- Thus :\n",
        "```\n",
        "dloss/dh_pre_act = (1 - tanh(h_pre_act)**2) * dh\n",
        "```"
      ],
      "metadata": {
        "id": "42N80RUBrgyn"
      }
    },
    {
      "cell_type": "code",
      "source": [
        "# Calculating backprop for pre-activation\n",
        "dh_pre_act = (1 - h**2) * dh"
      ],
      "metadata": {
        "id": "lUxG-eUjrQ0p"
      },
      "execution_count": 16,
      "outputs": []
    },
    {
      "cell_type": "code",
      "source": [
        "# Check the comparison between manual & automatic gradients\n",
        "compare_grad('log_probs', dlog_probs, log_probs)\n",
        "compare_grad('probs', dprobs, probs)\n",
        "compare_grad('counts_sum_inv', dcounts_sum_inv, counts_sum_inv)\n",
        "compare_grad('counts_sum', dcounts_sum, counts_sum)\n",
        "compare_grad('counts', dcounts, counts)\n",
        "compare_grad('logits', dlogits, logits)\n",
        "compare_grad('W2', dW2, W2)\n",
        "compare_grad('h', dh, h)\n",
        "compare_grad('b2', db2, b2)\n",
        "compare_grad('h_pre_act', dh_pre_act, h_pre_act)"
      ],
      "metadata": {
        "colab": {
          "base_uri": "https://localhost:8080/"
        },
        "id": "g6d0bzahrj0U",
        "outputId": "839b2352-9dfd-4374-884d-5004e8a6aa51"
      },
      "execution_count": 17,
      "outputs": [
        {
          "output_type": "stream",
          "name": "stdout",
          "text": [
            "log_probs       | exact: True  | approximate: True  | max diff.: 0.0\n",
            "probs           | exact: True  | approximate: True  | max diff.: 0.0\n",
            "counts_sum_inv  | exact: True  | approximate: True  | max diff.: 0.0\n",
            "counts_sum      | exact: True  | approximate: True  | max diff.: 0.0\n",
            "counts          | exact: True  | approximate: True  | max diff.: 0.0\n",
            "logits          | exact: True  | approximate: True  | max diff.: 0.0\n",
            "W2              | exact: True  | approximate: True  | max diff.: 0.0\n",
            "h               | exact: True  | approximate: True  | max diff.: 0.0\n",
            "b2              | exact: True  | approximate: True  | max diff.: 0.0\n",
            "h_pre_act       | exact: False | approximate: True  | max diff.: 4.336808689942018e-19\n"
          ]
        }
      ]
    },
    {
      "cell_type": "markdown",
      "source": [
        "# **9. Performing Backpropagation for `W1` and `b1`**"
      ],
      "metadata": {
        "id": "7LrcyxNBtvhV"
      }
    },
    {
      "cell_type": "markdown",
      "source": [
        "- Here we try to calculate the parameters in the first layer."
      ],
      "metadata": {
        "id": "PTyzxFJyt4qv"
      }
    },
    {
      "cell_type": "markdown",
      "source": [
        "- We need to find\n",
        "\n",
        "$$\n",
        "\\cfrac\n",
        "{\\partial \\ \\text{loss}}\n",
        "{\\partial \\ \\text{W1}}\n",
        "$$\n",
        "\n",
        "$$\n",
        "\\cfrac\n",
        "{\\partial \\ \\text{loss}}\n",
        "{\\partial \\ \\text{b1}}\n",
        "$$"
      ],
      "metadata": {
        "id": "ZPz4kG5tuBPq"
      }
    },
    {
      "cell_type": "markdown",
      "source": [
        "- In graph :\n",
        "\n",
        "<center>\n",
        "<img src=\"https://drive.google.com/uc?id=1a3NSCtenXUFHU9Z3AA7EEG7GFt1PadMZ\">"
      ],
      "metadata": {
        "id": "a1ry-mY-uEL3"
      }
    },
    {
      "cell_type": "markdown",
      "source": [
        "- We can use the equation as follow :\n",
        "```\n",
        "h_pre_act = X @ W1 + b1\n",
        "dh_pre_act = X dW1\n",
        "dh_pre_act = 1 b1\n",
        "```\n",
        "\n",
        "- Thus :\n",
        "```\n",
        "dloss/dW1 = X * dh_pre_act\n",
        "dloss/db1 = 1 * dh_pre_act\n",
        "```"
      ],
      "metadata": {
        "id": "CZrwwsItuGAm"
      }
    },
    {
      "cell_type": "code",
      "source": [
        "# Calculating backprop in 1st layer\n",
        "dW1 = X_batch.T @ dh_pre_act\n",
        "db1 = dh_pre_act.sum(0)"
      ],
      "metadata": {
        "id": "caY-AexduIa9"
      },
      "execution_count": 18,
      "outputs": []
    },
    {
      "cell_type": "code",
      "source": [
        "# Check the comparison between manual & automatic gradients\n",
        "compare_grad('log_probs', dlog_probs, log_probs)\n",
        "compare_grad('probs', dprobs, probs)\n",
        "compare_grad('counts_sum_inv', dcounts_sum_inv, counts_sum_inv)\n",
        "compare_grad('counts_sum', dcounts_sum, counts_sum)\n",
        "compare_grad('counts', dcounts, counts)\n",
        "compare_grad('logits', dlogits, logits)\n",
        "compare_grad('W2', dW2, W2)\n",
        "compare_grad('h', dh, h)\n",
        "compare_grad('b2', db2, b2)\n",
        "compare_grad('h_pre_act', dh_pre_act, h_pre_act)\n",
        "compare_grad('W1', dW1, W1)\n",
        "compare_grad('b1', db1, b1)"
      ],
      "metadata": {
        "colab": {
          "base_uri": "https://localhost:8080/"
        },
        "id": "MfZ3e3lCuJ5R",
        "outputId": "e05a82e5-dfe6-4f77-c8cb-7b433db3a149"
      },
      "execution_count": 19,
      "outputs": [
        {
          "output_type": "stream",
          "name": "stdout",
          "text": [
            "log_probs       | exact: True  | approximate: True  | max diff.: 0.0\n",
            "probs           | exact: True  | approximate: True  | max diff.: 0.0\n",
            "counts_sum_inv  | exact: True  | approximate: True  | max diff.: 0.0\n",
            "counts_sum      | exact: True  | approximate: True  | max diff.: 0.0\n",
            "counts          | exact: True  | approximate: True  | max diff.: 0.0\n",
            "logits          | exact: True  | approximate: True  | max diff.: 0.0\n",
            "W2              | exact: True  | approximate: True  | max diff.: 0.0\n",
            "h               | exact: True  | approximate: True  | max diff.: 0.0\n",
            "b2              | exact: True  | approximate: True  | max diff.: 0.0\n",
            "h_pre_act       | exact: False | approximate: True  | max diff.: 4.336808689942018e-19\n",
            "W1              | exact: False | approximate: True  | max diff.: 4.163336342344337e-17\n",
            "b1              | exact: False | approximate: True  | max diff.: 1.734723475976807e-18\n"
          ]
        }
      ]
    },
    {
      "cell_type": "markdown",
      "source": [
        "# **10. Train with manual backpropagation**"
      ],
      "metadata": {
        "id": "-OqWe_YTrqxR"
      }
    },
    {
      "cell_type": "markdown",
      "source": [
        "- First, reinitialize the weights"
      ],
      "metadata": {
        "id": "EIFUZGyVruC_"
      }
    },
    {
      "cell_type": "code",
      "source": [
        "# Create the Neural Network\n",
        "g = torch.Generator().manual_seed(42)\n",
        "\n",
        "# Layer 1 (The hidden layer)\n",
        "W1 = torch.randn((n_in, n_hidden),  generator=g, dtype=torch.float64) * (5/3) / (n_in**0.5)\n",
        "b1 = torch.randn(n_hidden,          generator=g, dtype=torch.float64) * 0.1\n",
        "\n",
        "# Layer 2 (The output layer)\n",
        "W2 = torch.randn((n_hidden, n_out), generator=g, dtype=torch.float64) * 0.1\n",
        "b2 = torch.randn(n_out,             generator=g, dtype=torch.float64) * 0.1\n",
        "\n",
        "# Get the parameters\n",
        "parameters = [W1, b1, W2, b2]\n",
        "print(sum(param.nelement() for param in parameters))\n",
        "\n",
        "# Activate the grad\n",
        "for param in parameters:\n",
        "    param.requires_grad = True"
      ],
      "metadata": {
        "colab": {
          "base_uri": "https://localhost:8080/"
        },
        "id": "FhQesrqCrxN8",
        "outputId": "d529e042-5b69-45da-b393-202670fb73c0"
      },
      "execution_count": 20,
      "outputs": [
        {
          "output_type": "stream",
          "name": "stdout",
          "text": [
            "1810\n"
          ]
        }
      ]
    },
    {
      "cell_type": "markdown",
      "source": [
        "- Train the NN model"
      ],
      "metadata": {
        "id": "7ieVTGoXrzTR"
      }
    },
    {
      "cell_type": "code",
      "source": [
        "max_steps = 100_000\n",
        "batch_size = 32\n",
        "n = batch_size\n",
        "losses = []\n",
        "\n",
        "# We will calculate the grad manually\n",
        "with torch.no_grad():\n",
        "\n",
        "    # Start optimizing\n",
        "    for i in range(max_steps):\n",
        "        # Construct a minibatch\n",
        "        mini_ix = torch.randint(0, X_train.shape[0], (batch_size,), generator=g)\n",
        "        X_batch, y_batch = X_train[mini_ix], y_train[mini_ix]\n",
        "\n",
        "        # Perform the forward pass\n",
        "        h_pre_act = X_batch @ W1 + b1\n",
        "        h = torch.tanh(h_pre_act)\n",
        "        logits = h @ W2 + b2\n",
        "\n",
        "        # Calculate loss\n",
        "        counts = logits.exp()\n",
        "        counts_sum = counts.sum(1, keepdims=True)\n",
        "        counts_sum_inv = counts_sum**-1\n",
        "        probs = counts * counts_sum_inv\n",
        "        log_probs = probs.log()\n",
        "        loss = -log_probs[range(n), y_batch].mean()\n",
        "\n",
        "        # Let's do the backward pass\n",
        "        for p in parameters:\n",
        "            p.grad = None\n",
        "\n",
        "        # Let's manually calculate the gradients\n",
        "        dlog_probs = torch.zeros_like(log_probs)\n",
        "        dlog_probs[range(n), y_batch] = -1.0 / n\n",
        "        dprobs = (1./probs) * dlog_probs\n",
        "        dcounts_sum_inv = (counts * dprobs).sum(1, keepdim=True)\n",
        "        dcounts_sum = -1 * (counts_sum)**(-2) * dcounts_sum_inv\n",
        "        dcounts = counts_sum_inv * dprobs\n",
        "        dcounts += torch.ones_like(counts) * dcounts_sum\n",
        "        dlogits = counts * dcounts\n",
        "        dW2 = h.T @ dlogits\n",
        "        dh = dlogits @ W2.T\n",
        "        db2 = dlogits.sum(0)\n",
        "        dh_pre_act = (1 - h**2) * dh\n",
        "        dW1 = X_batch.T @ dh_pre_act\n",
        "        db1 = dh_pre_act.sum(0)\n",
        "        grads = [dW1, db1, dW2, db2]  # store the grads of our model parameters\n",
        "\n",
        "        # Update the model parameters\n",
        "        lr = 0.05 if i < 50_000 else 0.001\n",
        "        for p, grad in zip(parameters, grads):\n",
        "            p.data += -lr * grad\n",
        "\n",
        "        # Track\n",
        "        if i%10000 == 0:\n",
        "            print(f'{i:8d}/{max_steps:8d}: {loss.item():.4f}')\n",
        "        losses.append(loss.log().item())"
      ],
      "metadata": {
        "colab": {
          "base_uri": "https://localhost:8080/"
        },
        "id": "ieb6xQLmrl6M",
        "outputId": "c6fb10ef-3cac-4469-9d40-6898503fcd85"
      },
      "execution_count": 21,
      "outputs": [
        {
          "output_type": "stream",
          "name": "stdout",
          "text": [
            "       0/  100000: 2.3850\n",
            "   10000/  100000: 0.0054\n",
            "   20000/  100000: 0.0035\n",
            "   30000/  100000: 0.0017\n",
            "   40000/  100000: 0.0034\n",
            "   50000/  100000: 0.0016\n",
            "   60000/  100000: 0.0010\n",
            "   70000/  100000: 0.0030\n",
            "   80000/  100000: 0.0016\n",
            "   90000/  100000: 0.0006\n"
          ]
        }
      ]
    },
    {
      "cell_type": "markdown",
      "source": [
        "# **11. Model Evaluation**"
      ],
      "metadata": {
        "id": "Xr2DR7o6r5tM"
      }
    },
    {
      "cell_type": "code",
      "source": [
        "@torch.no_grad()\n",
        "def check_loss(split):\n",
        "    X, y = {\n",
        "    'train': (X_train, y_train),\n",
        "    'valid': (X_valid, y_valid),\n",
        "    'test': (X_test, y_test),\n",
        "    }[split]\n",
        "\n",
        "    # Perform a forward pass\n",
        "    h_pre_act = X @ W1 + b1\n",
        "    h = torch.tanh(h_pre_act)\n",
        "    logits = h @ W2 + b2\n",
        "    loss = F.cross_entropy(logits, y)\n",
        "\n",
        "    print(split, loss.item())\n",
        "\n",
        "check_loss('train')\n",
        "check_loss('valid')"
      ],
      "metadata": {
        "colab": {
          "base_uri": "https://localhost:8080/"
        },
        "id": "r_PfU9KKr4JE",
        "outputId": "15b8db96-5ade-4145-d36f-0de48bdd001a"
      },
      "execution_count": 22,
      "outputs": [
        {
          "output_type": "stream",
          "name": "stdout",
          "text": [
            "train 0.0018933809476090703\n",
            "valid 0.12775571482346032\n"
          ]
        }
      ]
    },
    {
      "cell_type": "markdown",
      "source": [
        "# **12. Make predictions**"
      ],
      "metadata": {
        "id": "N2vK9lHmr-ZL"
      }
    },
    {
      "cell_type": "code",
      "source": [
        "@torch.no_grad()\n",
        "def predict(split):\n",
        "    X, y = {\n",
        "    'train': (X_train, y_train),\n",
        "    'valid': (X_valid, y_valid),\n",
        "    'test': (X_test, y_test),\n",
        "    }[split]\n",
        "\n",
        "    # Perform a forward pass\n",
        "    h_pre_act = X @ W1 + b1\n",
        "    h = torch.tanh(h_pre_act)\n",
        "    logits = h @ W2 + b2\n",
        "    probs = F.softmax(logits, dim=1)\n",
        "    y_pred = probs.max(1).indices\n",
        "    y_pred_proba = probs.max(1).values\n",
        "\n",
        "    return y_pred, y_pred_proba\n",
        "\n",
        "y_test_pred, y_test_pred_proba = predict('test')"
      ],
      "metadata": {
        "id": "Cy0TKudKr8ag"
      },
      "execution_count": 23,
      "outputs": []
    },
    {
      "cell_type": "markdown",
      "source": [
        "- Plotting the predictions"
      ],
      "metadata": {
        "id": "CZui9FTgsBUP"
      }
    },
    {
      "cell_type": "code",
      "source": [
        "# Plotting the predictions\n",
        "ix = torch.randint(0, X_test.shape[0], (5,))\n",
        "fig, axes = plt.subplots(nrows=1, ncols=5, figsize=(15, 1))\n",
        "for ax, img, act, pred, proba in zip(axes, X_test[ix], y_test[ix], y_test_pred[ix], y_test_pred_proba[ix]):\n",
        "    ax.set_axis_off()\n",
        "    ax.imshow(img.reshape(8, 8), cmap=plt.cm.gray_r, interpolation='nearest')\n",
        "    ax.set_title(f'Actual: {act}, Predicted: {pred}\\nProba: {proba:.4f}', fontsize=12)"
      ],
      "metadata": {
        "colab": {
          "base_uri": "https://localhost:8080/",
          "height": 157
        },
        "id": "CfkU0bpxr_7L",
        "outputId": "c8c20539-3625-4ba9-d6cb-5a35f97c6ddc"
      },
      "execution_count": 24,
      "outputs": [
        {
          "output_type": "display_data",
          "data": {
            "text/plain": [
              "<Figure size 1500x100 with 5 Axes>"
            ],
            "image/png": "[encoded data removed]"
          },
          "metadata": {}
        }
      ]
    },
    {
      "cell_type": "markdown",
      "source": [
        "- As shown in plot above, we successfully predicted 5/5 of the data."
      ],
      "metadata": {
        "id": "iCvXBDS1oRsL"
      }
    }
  ]
}